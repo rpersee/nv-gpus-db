{
 "cells": [
  {
   "cell_type": "code",
   "execution_count": 376,
   "metadata": {},
   "outputs": [],
   "source": [
    "from datetime import datetime, date\n",
    "from pydantic import BaseModel, Field, validator\n",
    "from typing import Any, Optional"
   ]
  },
  {
   "cell_type": "code",
   "execution_count": 377,
   "metadata": {},
   "outputs": [],
   "source": [
    "import re\n",
    "from functools import singledispatchmethod\n",
    "\n",
    "def to_snake_case(string: str) -> str:\n",
    "    return string.lower().replace(' ', '_')\n",
    "\n",
    "class RegexMatch(str):\n",
    "    @singledispatchmethod\n",
    "    def __eq__(self, other) -> bool:\n",
    "        return super().__eq__(other)\n",
    "    \n",
    "    @__eq__.register\n",
    "    def _(self, pattern: re.Pattern) -> bool:\n",
    "        match = pattern.match(self)\n",
    "        if not match:\n",
    "            return False\n",
    "        self.groups = match.groupdict()\n",
    "        return True\n",
    "    \n",
    "class Patterns:\n",
    "    release_price = re.compile(r'release price', re.IGNORECASE)\n",
    "    model = re.compile(r'^model', re.IGNORECASE)\n",
    "    code_name = re.compile(r'^code name', re.IGNORECASE)\n",
    "    launch = re.compile(r'^launch', re.IGNORECASE)\n",
    "    processing_power = re.compile(r'^processing power \\((?P<unit>G|T)FLOPS\\)([^:]*$|: single precision)', re.IGNORECASE)\n",
    "\n",
    "re_number = '(?P<integral>(?:\\d+(?P<sep> |,)?)+)(?P<decimal>\\.\\d+)?'\n",
    "\n",
    "def preprocess(**data):\n",
    "    for key, value in data.items():\n",
    "        match RegexMatch(key):\n",
    "            case Patterns.release_price:\n",
    "                key = 'release_price'\n",
    "                match = re.search(f\"\\$\\s*({re_number})\", value)\n",
    "                value = float(match.group(1)) if match else None\n",
    "\n",
    "            case Patterns.model:\n",
    "                key = 'model'\n",
    "\n",
    "            case Patterns.code_name:\n",
    "                key = 'code_name'\n",
    "\n",
    "            case Patterns.launch:\n",
    "                key = 'launch'\n",
    "\n",
    "            case Patterns.processing_power as field:\n",
    "                key = 'processing_power'\n",
    "                match = re.search(re_number, value)\n",
    "                value = float(match.group(0).replace(match.group('sep'), '')) if match else None\n",
    "\n",
    "                match field.groups['unit']:\n",
    "                    case 'G':\n",
    "                        pass\n",
    "                    case 'T':\n",
    "                        value /= 1e3\n",
    "                    case _:\n",
    "                        raise ValueError(f'Unknown unit {field.groups[\"unit\"]}')\n",
    "                \n",
    "        yield to_snake_case(key), value\n"
   ]
  },
  {
   "cell_type": "code",
   "execution_count": 378,
   "metadata": {},
   "outputs": [],
   "source": [
    "import calendar\n",
    "\n",
    "abbr2month = dict(zip(calendar.month_abbr, calendar.month_name))\n",
    "month2int = {m: i for i, m in enumerate(calendar.month_name)}\n",
    "\n",
    "def str2dt(*, year: str, month: str = None, day: str = None):\n",
    "    return datetime(\n",
    "        day=int(day) if day is not None else 15,\n",
    "        month=month2int.get(abbr2month.get(month, month), 7), \n",
    "        year=int(year)\n",
    "    )"
   ]
  },
  {
   "cell_type": "code",
   "execution_count": 379,
   "metadata": {},
   "outputs": [],
   "source": [
    "from lenientlist import LenientList\n",
    "\n",
    "class GraphicCard(BaseModel):\n",
    "    model: str\n",
    "    launch: date\n",
    "    code_name: str\n",
    "\n",
    "    processing_power: float = Field(description=\"Single-precision processing power in FLOPS.\")\n",
    "    tdp: Optional[float] = Field(title=\"TDP\", description=\"Thermal Design Power in watts (W).\")\n",
    "    release_price: float\n",
    "\n",
    "    class Config:\n",
    "        title = 'Graphic Card'\n",
    "\n",
    "    def __init__(self, **data: Any) -> None:\n",
    "        super().__init__(**dict(preprocess(**data)))\n",
    "\n",
    "    # call the validator before field validation using pre=True\n",
    "    @validator('launch', pre=True)\n",
    "    def launch_validator(cls, value):\n",
    "        match = re.match(\"((?P<month>[A-Z][a-z]+),? ((?P<day>\\d{1,2}),? )?)?(?P<year>\\d{4})\", value)\n",
    "        if not match:\n",
    "            raise ValueError(value)\n",
    "        return str2dt(**match.groupdict())\n",
    "\n",
    "class Generation(BaseModel):\n",
    "    name: str\n",
    "    gpus: LenientList[GraphicCard] = Field(title=\"GPUs\")\n",
    "\n",
    "class Category(BaseModel):\n",
    "    name: str\n",
    "    generations: list[Generation]\n",
    "\n",
    "class Export(BaseModel):\n",
    "    date: datetime\n",
    "    categories: list[Category]\n",
    "\n",
    "# print(Export.schema_json(indent=2))\n"
   ]
  },
  {
   "cell_type": "code",
   "execution_count": 380,
   "metadata": {},
   "outputs": [],
   "source": [
    "parsed = Export.parse_file(\"nv-gpus-db.json\")"
   ]
  },
  {
   "cell_type": "code",
   "execution_count": 381,
   "metadata": {},
   "outputs": [],
   "source": [
    "import json\n",
    "\n",
    "with open(\"parsed.json\", 'w') as f:\n",
    "    f.write(parsed.json(indent=2))\n"
   ]
  }
 ],
 "metadata": {
  "kernelspec": {
   "display_name": "base",
   "language": "python",
   "name": "python3"
  },
  "language_info": {
   "codemirror_mode": {
    "name": "ipython",
    "version": 3
   },
   "file_extension": ".py",
   "mimetype": "text/x-python",
   "name": "python",
   "nbconvert_exporter": "python",
   "pygments_lexer": "ipython3",
   "version": "3.10.9 | packaged by conda-forge | (main, Feb  2 2023, 20:20:04) [GCC 11.3.0]"
  },
  "orig_nbformat": 4,
  "vscode": {
   "interpreter": {
    "hash": "d4d1e4263499bec80672ea0156c357c1ee493ec2b1c70f0acce89fc37c4a6abe"
   }
  }
 },
 "nbformat": 4,
 "nbformat_minor": 2
}
